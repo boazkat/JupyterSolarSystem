{
 "cells": [
  {
   "cell_type": "markdown",
   "metadata": {},
   "source": [
    "<div style=\"direction:rtl\">\n",
    "<H1>\n",
    "תנועת כוכבי הלכת\n",
    "</H1>\n",
    "\n",
    "כאשר עוקבים אחרי תנועת השמש וכוכבי הלכת ביחס לרקע של הכוכבים בשמיים, נראה שכולם מקיפים את כדה״א בקירוב לאורך מעגל גדול אחד (בקצבים וצורות שונות).\n",
    "\n",
    "כבר היוונים הקדמונים פירשו עובדה זאת כעדות לכך שגרמי השמים נעים במישור (בקירוב) שבו נמצא גם כדה״א.\n",
    "\n",
    "על מעגל זה נמצאות שתיים עשרה קבוצות הכוכבים שמייצגות את המזלות. \n",
    "\n",
    "המיקום של כל גרם שמים בזמן נתון נקבע בעיקר ע״י זוית אחת - המיקום לאורך קו זה.\n",
    "\n",
    "באופן גס, אפשר לאמר באיזה מזל נמצא גרם השמים, ובאופן מדויק אפשר לציין את הזווית האורכית שלו (Longitude).\n",
    "<br>\n",
    "בקישורים הבאים קבצים עם הזוית כתלות בזמן של\n",
    "<a href=\"http://anaconda.org/explorephysics/data-1/1/download/sun.csv\">\n",
    "השמש(sun)\n",
    "</a>\n",
    "וכוכבי הלכת ההיסטוריים,\n",
    "<a href=\"http://anaconda.org/explorephysics/data-1/1/download/mercury.csv\">\n",
    "כוכב חמה(mercury)\n",
    "</a>,\n",
    "<a href=\"http://anaconda.org/explorephysics/data-1/1/download/venus.csv\">\n",
    "נוגה (venus)\n",
    "</a>,\n",
    "<a href=\"http://anaconda.org/explorephysics/data-1/1/download/mars.csv\">\n",
    "מאדים (mars)\n",
    "</a>,\n",
    "<a href=\"http://anaconda.org/explorephysics/data-1/1/download/jupiter.csv\">\n",
    "צדק (jupiter)\n",
    "</a>, ו\n",
    "<a href=\"http://anaconda.org/explorephysics/data-1/1/download/saturn.csv\">\n",
    "שבתאי (saturn)\n",
    "</a>.\n",
    "<br>\n",
    "\n",
    "השם של כל קובץ הוא שם כוכב הלכת באנגלית וסיומת csv. הורידו את הקבצים ושמרו אותם בספרייה בה אתם עובדים.\n",
    "\n",
    "הזמן נמדד בימים ביחס ל-1 לינואר שנת 2000.\n",
    "</div>"
   ]
  },
  {
   "cell_type": "markdown",
   "metadata": {},
   "source": [
    "<div style=\"direction:rtl\">\n",
    "ראשית נייבא מספר כלים שימושיים. נשתמש ב pylab ומכיוון שעלינו ליבא נתונים, נייבא גם את ספריית pandas.\n",
    "הריצו את התא הבא לייבוא הספריות והגדרת פונקציות שימושיות.\n",
    "</div>"
   ]
  },
  {
   "cell_type": "code",
   "execution_count": 1,
   "metadata": {},
   "outputs": [
    {
     "name": "stdout",
     "output_type": "stream",
     "text": [
      "Using matplotlib backend: MacOSX\n",
      "Populating the interactive namespace from numpy and matplotlib\n"
     ]
    }
   ],
   "source": [
    "%pylab inline\n",
    "from pandas import read_csv\n",
    "\n",
    "sun=read_csv('sun.csv')\n",
    "mer=read_csv('mercury.csv')\n",
    "ven=read_csv('venus.csv')\n",
    "mar=read_csv('mars.csv')\n",
    "jup=read_csv('jupiter.csv')\n",
    "sat=read_csv('saturn.csv')\n",
    "\n",
    "\n",
    "tsun=array(sun['tdays'])\n",
    "Asun=array(sun['Angledeg'])\n",
    "\n",
    "tmer=array(mer['tdays'])\n",
    "Amer=array(mer['Angledeg'])\n",
    "\n",
    "tven=array(ven['tdays'])\n",
    "Aven=array(ven['Angledeg'])\n",
    "\n",
    "tmar=array(mar['tdays'])\n",
    "Amar=array(mar['Angledeg'])\n",
    "\n",
    "tjup=array(jup['tdays'])\n",
    "Ajup=array(jup['Angledeg'])\n",
    "\n",
    "tsat=array(sat['tdays'])\n",
    "Asat=array(sat['Angledeg'])"
   ]
  },
  {
   "cell_type": "code",
   "execution_count": 14,
   "metadata": {},
   "outputs": [
    {
     "data": {
      "text/plain": [
       "<matplotlib.text.Text at 0x1320d3208>"
      ]
     },
     "execution_count": 14,
     "metadata": {},
     "output_type": "execute_result"
    }
   ],
   "source": [
    "plot(tsun,Asun,'y')\n",
    "plot(tven,Aven,'b')\n",
    "xlim(0,5000)\n",
    "ylim(0,5000)\n",
    "xlabel('t[day]')\n",
    "ylabel('Angle [degrees]')"
   ]
  },
  {
   "cell_type": "code",
   "execution_count": 18,
   "metadata": {},
   "outputs": [
    {
     "data": {
      "text/plain": [
       "[<matplotlib.lines.Line2D at 0x132aba978>]"
      ]
     },
     "execution_count": 18,
     "metadata": {},
     "output_type": "execute_result"
    }
   ],
   "source": [
    "plot(tven,100*sind(tven), 'b.')"
   ]
  },
  {
   "cell_type": "code",
   "execution_count": 12,
   "metadata": {},
   "outputs": [
    {
     "data": {
      "text/plain": [
       "<matplotlib.text.Text at 0x1320b79b0>"
      ]
     },
     "execution_count": 12,
     "metadata": {},
     "output_type": "execute_result"
    }
   ],
   "source": [
    "plot(tsun,Asun,'y')\n",
    "plot(tmer,Amer,'c')\n",
    "plot(tven,Aven,'b')\n",
    "plot(tmar,Amar,'r')\n",
    "plot(tjup,Ajup,'k')\n",
    "plot(tsat,Asat,'m')\n",
    "xlim(0,5000)\n",
    "ylim(0,5000)\n",
    "xlabel('t[day]')\n",
    "ylabel('Angle [degrees]')"
   ]
  },
  {
   "cell_type": "code",
   "execution_count": null,
   "metadata": {
    "collapsed": true
   },
   "outputs": [],
   "source": []
  },
  {
   "cell_type": "code",
   "execution_count": null,
   "metadata": {
    "collapsed": true
   },
   "outputs": [],
   "source": []
  },
  {
   "cell_type": "code",
   "execution_count": 15,
   "metadata": {
    "collapsed": true
   },
   "outputs": [],
   "source": [
    "def cosd(x):\n",
    "    return cos(x/180*pi)\n",
    "\n",
    "def sind(x):\n",
    "    return sin(x/180*pi)\n",
    "\n",
    "def tand(x):\n",
    "    return tan(x/180*pi)\n",
    "\n",
    "def smooth360(x):\n",
    "    xs=x\n",
    "    for l in range(0,len(x)-2):\n",
    "        d=x[l+1]-x[l]\n",
    "        if abs(d)>200:\n",
    "            xs[l+1:]=xs[l+1:]-sign(d)*360\n",
    "    return xs\n",
    "\n",
    "def arctan2ds(y,x):\n",
    "    return smooth360(180/pi*arctan2(y,x))"
   ]
  },
  {
   "cell_type": "code",
   "execution_count": null,
   "metadata": {
    "collapsed": true
   },
   "outputs": [],
   "source": []
  }
 ],
 "metadata": {
  "anaconda-cloud": {},
  "kernelspec": {
   "display_name": "Python 3",
   "language": "python",
   "name": "python3"
  },
  "language_info": {
   "codemirror_mode": {
    "name": "ipython",
    "version": 3
   },
   "file_extension": ".py",
   "mimetype": "text/x-python",
   "name": "python",
   "nbconvert_exporter": "python",
   "pygments_lexer": "ipython3",
   "version": "3.6.1"
  }
 },
 "nbformat": 4,
 "nbformat_minor": 1
}
